{
 "cells": [
  {
   "attachments": {},
   "cell_type": "markdown",
   "metadata": {},
   "source": [
    "# Übung 05 - Immobilienpreise \n",
    "\n",
    "### <span style=\"color:CornflowerBlue\">Speichern Sie die Übung im Ordner 06-Uebung in Ihrem Git.</span>\n",
    "\n",
    "In dieser Übung sollen Sie Immobilienpreise mit Hilfe von numerischen und kategorischen Merkmalen aus einem unvollständigen Datensatz mit einem Random-Forest-Regressor schätzen. Zusätzlich sollen mit Hilfe von Kreuzvalidierung Anzahl an Entscheidungsbäumen bestimmen, die das beste Ergebnis liefert.\n",
    "\n",
    "\n",
    "Original Daten: [Iowa, Ames Housing Datensatz](https://ww2.amstat.org/publications/jse/v19n3/decock/AmesHousing.txt)\n",
    "\n",
    "De Cock, D., 2011. Ames, Iowa: Alternative to the Boston housing data as an end of semester regression project. Journal of Statistics Education, 19(3)."
   ]
  },
  {
   "cell_type": "code",
   "execution_count": 1,
   "metadata": {},
   "outputs": [],
   "source": [
    "# importieren der Bibliotheken\n",
    "import numpy as np\n",
    "import seaborn as sns\n",
    "import pandas as pd\n",
    "import matplotlib.pyplot as plt\n",
    "\n",
    "from sklearn.model_selection import train_test_split\n",
    "from sklearn.preprocessing import OneHotEncoder\n",
    "from sklearn.impute import SimpleImputer\n",
    "from sklearn.metrics import mean_absolute_error, r2_score\n",
    "\n",
    "# plots direkt im notebook anzeigen\n",
    "%matplotlib inline"
   ]
  },
  {
   "attachments": {},
   "cell_type": "markdown",
   "metadata": {},
   "source": [
    "a) Lesen Sie den Datensatz ein. (Laden Sie die Daten mit index_col=\"Id\")"
   ]
  },
  {
   "cell_type": "code",
   "execution_count": 2,
   "metadata": {},
   "outputs": [
    {
     "name": "stdout",
     "output_type": "stream",
     "text": [
      "    MSSubClass MSZoning  LotFrontage  LotArea Street Alley LotShape  \\\n",
      "Id                                                                    \n",
      "1           60       RL         65.0     8450   Pave   NaN      Reg   \n",
      "2           20       RL         80.0     9600   Pave   NaN      Reg   \n",
      "3           60       RL         68.0    11250   Pave   NaN      IR1   \n",
      "4           70       RL         60.0     9550   Pave   NaN      IR1   \n",
      "5           60       RL         84.0    14260   Pave   NaN      IR1   \n",
      "\n",
      "   LandContour Utilities LotConfig  ... PoolArea PoolQC Fence MiscFeature  \\\n",
      "Id                                  ...                                     \n",
      "1          Lvl    AllPub    Inside  ...        0    NaN   NaN         NaN   \n",
      "2          Lvl    AllPub       FR2  ...        0    NaN   NaN         NaN   \n",
      "3          Lvl    AllPub    Inside  ...        0    NaN   NaN         NaN   \n",
      "4          Lvl    AllPub    Corner  ...        0    NaN   NaN         NaN   \n",
      "5          Lvl    AllPub       FR2  ...        0    NaN   NaN         NaN   \n",
      "\n",
      "   MiscVal MoSold  YrSold  SaleType  SaleCondition  SalePrice  \n",
      "Id                                                             \n",
      "1        0      2    2008        WD         Normal     208500  \n",
      "2        0      5    2007        WD         Normal     181500  \n",
      "3        0      9    2008        WD         Normal     223500  \n",
      "4        0      2    2006        WD        Abnorml     140000  \n",
      "5        0     12    2008        WD         Normal     250000  \n",
      "\n",
      "[5 rows x 80 columns]\n"
     ]
    }
   ],
   "source": [
    "df = pd.read_csv(\"data.csv\", index_col=\"Id\")\n",
    "print(df.head())"
   ]
  },
  {
   "attachments": {},
   "cell_type": "markdown",
   "metadata": {},
   "source": [
    "b) Prüfen Sie die Daten auf fehlende Werte."
   ]
  },
  {
   "cell_type": "code",
   "execution_count": 3,
   "metadata": {},
   "outputs": [],
   "source": [
    "fehlt = df.isnull().sum()"
   ]
  },
  {
   "attachments": {},
   "cell_type": "markdown",
   "metadata": {},
   "source": [
    "c) Entfernen Sie die Merkmale (Spalten) mit zu vielen fehlenden Werten. (Zum Beispiel: > 500, > 1000)"
   ]
  },
  {
   "cell_type": "code",
   "execution_count": 4,
   "metadata": {},
   "outputs": [],
   "source": [
    "df_bereinigt1 = df.dropna(axis=1, thresh=len(df) - 500)\n",
    "df_bereinigt2 = df.dropna(axis=1, thresh=len(df) - 1000)"
   ]
  },
  {
   "attachments": {},
   "cell_type": "markdown",
   "metadata": {},
   "source": [
    "d) Aufteilen der Daten in Merkmale (X) und Zielvariable (y)"
   ]
  },
  {
   "cell_type": "code",
   "execution_count": 5,
   "metadata": {},
   "outputs": [],
   "source": [
    "X = df.drop(columns=['SalePrice'])\n",
    "y = df['SalePrice']"
   ]
  },
  {
   "attachments": {},
   "cell_type": "markdown",
   "metadata": {},
   "source": [
    "e) Unterteilen Sie den Datensatz in Trainings- und Testdaten. Teilen Sie die Daten im Verhältnis 80% Trainingsdaten und 20% Testdaten auf."
   ]
  },
  {
   "cell_type": "code",
   "execution_count": 6,
   "metadata": {},
   "outputs": [],
   "source": [
    "X_train, X_test, y_train, y_test = train_test_split(X, y, test_size=0.2, random_state=42)"
   ]
  },
  {
   "attachments": {},
   "cell_type": "markdown",
   "metadata": {},
   "source": [
    "f) Befüllen Sie die fehlenden Werte der numerischen Merkmale. Wählen sie hierzu eine geeignete Strategie.\n",
    "\n",
    "Tip: SimpleImputer(strategy=[\"mean\"|\"median\"|\"most_frequent\"|\"constant\"]) aus sklearn."
   ]
  },
  {
   "cell_type": "code",
   "execution_count": 7,
   "metadata": {},
   "outputs": [],
   "source": [
    "num_spalten = X_train.select_dtypes(include=[np.number]).columns\n",
    "imputer_num = SimpleImputer(strategy=\"mean\")\n",
    "\n",
    "X_train[num_spalten] = imputer_num.fit_transform(X_train[num_spalten])\n",
    "X_test[num_spalten] = imputer_num.transform(X_test[num_spalten])"
   ]
  },
  {
   "attachments": {},
   "cell_type": "markdown",
   "metadata": {},
   "source": [
    "g) Befüllen Sie die fehlenden Werte der kategorischen Variablen. Verwenden Sie hierfür den Wert, der am häufigsten in der Spalte vorkommt."
   ]
  },
  {
   "cell_type": "code",
   "execution_count": 8,
   "metadata": {},
   "outputs": [],
   "source": [
    "kat_spalten = X_train.select_dtypes(include=[object]).columns\n",
    "imputer_kat = SimpleImputer(strategy=\"most_frequent\")\n",
    "\n",
    "X_train[kat_spalten] = imputer_kat.fit_transform(X_train[kat_spalten])\n",
    "X_test[kat_spalten] = imputer_kat.transform(X_test[kat_spalten])"
   ]
  },
  {
   "attachments": {},
   "cell_type": "markdown",
   "metadata": {},
   "source": [
    "h) Wenden Sie One-Hot-Encoding auf die kategorischen Merkmale an.\n",
    "\n",
    "Tip: OneHotEncoder(handle_unknown='ignore', sparse=False) sparse=False gibt eine voll besetzte Matrix zurück."
   ]
  },
  {
   "cell_type": "code",
   "execution_count": 9,
   "metadata": {},
   "outputs": [],
   "source": [
    "encoder = OneHotEncoder(handle_unknown='ignore', sparse_output=False)\n",
    "\n",
    "X_train_encoded = encoder.fit_transform(X_train[kat_spalten])\n",
    "X_test_encoded = encoder.transform(X_test[kat_spalten])\n",
    "\n",
    "ohe_columns = encoder.get_feature_names_out(kat_spalten)\n",
    "\n",
    "X_train_encoded_df = pd.DataFrame(X_train_encoded, columns=ohe_columns, index=X_train.index)\n",
    "X_test_encoded_df = pd.DataFrame(X_test_encoded, columns=ohe_columns, index=X_test.index)\n",
    "\n",
    "num_spalten = X_train.select_dtypes(include=[np.number]).columns\n",
    "\n",
    "X_train_final = pd.concat([X_train[num_spalten], X_train_encoded_df], axis=1)\n",
    "X_test_final = pd.concat([X_test[num_spalten], X_test_encoded_df], axis=1)"
   ]
  },
  {
   "attachments": {},
   "cell_type": "markdown",
   "metadata": {},
   "source": [
    "i) Trainieren Sie einen Randomforest Regressor auf den Trainingsdaten um die Immobilienpreise zu schätzen. Gehen Sie dabei folgendermaßen vor:\n",
    "\n",
    "* Verwenden Sie eine 5-Fold Kreuzvalidierung um die Anzahl der Bäume zu finden, die das beste Ergebnis liefert (GridSearchCV). Probieren Sie die folgenden Konfigurationen aus: z.B. n_estimators: [50, 100, 150, 200]\n",
    "* Wählen Sie die Konfiguration mit dem besten Ergebnis aus. Führe Sie diese auf den Testdaten aus und berechnen Sie den Mean Squared Error (MAE) sowie den R2_Score.\n",
    "\n",
    "\n",
    "Tip: n_jobs=<number of Threads> für parallele Ausführung. "
   ]
  },
  {
   "cell_type": "code",
   "execution_count": 10,
   "metadata": {},
   "outputs": [],
   "source": [
    "from sklearn.ensemble import RandomForestRegressor\n",
    "from sklearn.model_selection import GridSearchCV\n",
    "from sklearn.model_selection import cross_val_score\n",
    "\n",
    "estimators =  [50, 100, 150, 200]\n",
    "\n",
    "best_estimators = None\n",
    "best_score = -np.inf\n",
    "best_rf_model = None\n",
    "\n",
    "for n_estimators in estimators:\n",
    "    rf = RandomForestRegressor(n_estimators=n_estimators, random_state=42, n_jobs=-1)\n",
    "    cv_scores = cross_val_score(rf, X_train_final, y_train, cv=5, scoring='neg_mean_squared_error')\n",
    "    mean_cv_score = np.mean(cv_scores)\n",
    "    \n",
    "    # wenn aktueller Score besser, speichern:\n",
    "    if mean_cv_score > best_score:\n",
    "        best_score = mean_cv_score\n",
    "        best_estimators = n_estimators\n",
    "        best_rf_model = rf\n",
    "\n",
    "best_rf_model.fit(X_train_final, y_train)\n",
    "y_pred = best_rf_model.predict(X_test_final)\n",
    "\n",
    "mae = mean_absolute_error(y_test, y_pred)\n",
    "r2 = r2_score(y_test, y_pred)"
   ]
  }
 ],
 "metadata": {
  "kernelspec": {
   "display_name": "base",
   "language": "python",
   "name": "python3"
  },
  "language_info": {
   "codemirror_mode": {
    "name": "ipython",
    "version": 3
   },
   "file_extension": ".py",
   "mimetype": "text/x-python",
   "name": "python",
   "nbconvert_exporter": "python",
   "pygments_lexer": "ipython3",
   "version": "3.11.7"
  },
  "orig_nbformat": 4,
  "vscode": {
   "interpreter": {
    "hash": "2b66a54808bfd38b8ee50b81466627e5e186589d5fbca2ad2c90779bf4237097"
   }
  }
 },
 "nbformat": 4,
 "nbformat_minor": 2
}
