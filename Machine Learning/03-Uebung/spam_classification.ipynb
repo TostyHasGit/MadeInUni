{
 "cells": [
  {
   "attachments": {},
   "cell_type": "markdown",
   "metadata": {},
   "source": [
    "# Übung 03 - NaiveBayes zur Spam-Klassifikaton\n",
    "\n",
    "### <span style=\"color:CornflowerBlue\">Speichern Sie die Übung in dem Ordner 04-Uebung in Ihrem Git.</span>\n",
    "In dieser Übung werden Sie einen Klassifikator implementieren, der in der Lage ist, Spam-Nachrichten in den Kommentaren eines Shakira-Musikvideos auf YouTube zu erkennen. Dazu müssen Sie zunächst den gegebenen Datensatz von Kommentaren in die Bag-of-Words-Darstellung konvertieren. Anschließend implementieren Sie einen Multinominal-Bayes-Klassifikator mit Laplace-Smoothing, um die Spam-Nachrichten in den Kommentaren zu erkennen.\n",
    "\n",
    "Datenquelle: [https://archive-beta.ics.uci.edu/dataset/380/youtube+spam+collection](https://archive-beta.ics.uci.edu/dataset/380/youtube+spam+collection)\n"
   ]
  },
  {
   "cell_type": "code",
   "execution_count": 86,
   "metadata": {},
   "outputs": [],
   "source": [
    "# importieren der Bibliotheken\n",
    "import numpy as np\n",
    "import seaborn as sns\n",
    "import pandas as pd\n",
    "import matplotlib.pyplot as plt\n",
    "from sklearn.model_selection import train_test_split\n",
    "from sklearn.feature_extraction.text import CountVectorizer\n",
    "\n",
    "from sklearn.metrics import accuracy_score, confusion_matrix, ConfusionMatrixDisplay\n",
    "\n",
    "# plots direkt im notebook anzeigen\n",
    "%matplotlib inline"
   ]
  },
  {
   "attachments": {},
   "cell_type": "markdown",
   "metadata": {},
   "source": [
    "## Aufgabe 1\n",
    "a) Lesen Sie den Datensatz ein und entfernen Sie, falls notwendig, fehlerhafte Einträge."
   ]
  },
  {
   "cell_type": "code",
   "execution_count": 87,
   "metadata": {},
   "outputs": [
    {
     "data": {
      "text/html": [
       "<div>\n",
       "<style scoped>\n",
       "    .dataframe tbody tr th:only-of-type {\n",
       "        vertical-align: middle;\n",
       "    }\n",
       "\n",
       "    .dataframe tbody tr th {\n",
       "        vertical-align: top;\n",
       "    }\n",
       "\n",
       "    .dataframe thead th {\n",
       "        text-align: right;\n",
       "    }\n",
       "</style>\n",
       "<table border=\"1\" class=\"dataframe\">\n",
       "  <thead>\n",
       "    <tr style=\"text-align: right;\">\n",
       "      <th></th>\n",
       "      <th>COMMENT_ID</th>\n",
       "      <th>AUTHOR</th>\n",
       "      <th>DATE</th>\n",
       "      <th>CONTENT</th>\n",
       "      <th>CLASS</th>\n",
       "    </tr>\n",
       "  </thead>\n",
       "  <tbody>\n",
       "    <tr>\n",
       "      <th>0</th>\n",
       "      <td>z13lgffb5w3ddx1ul22qy1wxspy5cpkz504</td>\n",
       "      <td>dharma pal</td>\n",
       "      <td>2015-05-29T02:30:18.971000</td>\n",
       "      <td>Nice song﻿</td>\n",
       "      <td>0</td>\n",
       "    </tr>\n",
       "    <tr>\n",
       "      <th>1</th>\n",
       "      <td>z123dbgb0mqjfxbtz22ucjc5jvzcv3ykj</td>\n",
       "      <td>Tiza Arellano</td>\n",
       "      <td>2015-05-29T00:14:48.748000</td>\n",
       "      <td>I love song ﻿</td>\n",
       "      <td>0</td>\n",
       "    </tr>\n",
       "    <tr>\n",
       "      <th>2</th>\n",
       "      <td>z12quxxp2vutflkxv04cihggzt2azl34pms0k</td>\n",
       "      <td>Prìñçeśś Âliś Łøvê Dømíñø Mâđiś™ ﻿</td>\n",
       "      <td>2015-05-28T21:00:08.607000</td>\n",
       "      <td>I love song ﻿</td>\n",
       "      <td>0</td>\n",
       "    </tr>\n",
       "    <tr>\n",
       "      <th>3</th>\n",
       "      <td>z12icv3ysqvlwth2c23eddlykyqut5z1h</td>\n",
       "      <td>Eric Gonzalez</td>\n",
       "      <td>2015-05-28T20:47:12.193000</td>\n",
       "      <td>860,000,000 lets make it first female to reach...</td>\n",
       "      <td>0</td>\n",
       "    </tr>\n",
       "    <tr>\n",
       "      <th>4</th>\n",
       "      <td>z133stly3kete3tly22petvwdpmghrlli</td>\n",
       "      <td>Analena López</td>\n",
       "      <td>2015-05-28T17:08:29.827000</td>\n",
       "      <td>shakira is best for worldcup﻿</td>\n",
       "      <td>0</td>\n",
       "    </tr>\n",
       "    <tr>\n",
       "      <th>...</th>\n",
       "      <td>...</td>\n",
       "      <td>...</td>\n",
       "      <td>...</td>\n",
       "      <td>...</td>\n",
       "      <td>...</td>\n",
       "    </tr>\n",
       "    <tr>\n",
       "      <th>365</th>\n",
       "      <td>_2viQ_Qnc6-bMSjqyL1NKj57ROicCSJV5SwTrw-RFFA</td>\n",
       "      <td>Katie Mettam</td>\n",
       "      <td>2013-07-13T13:27:39.441000</td>\n",
       "      <td>I love this song because we sing it at Camp al...</td>\n",
       "      <td>0</td>\n",
       "    </tr>\n",
       "    <tr>\n",
       "      <th>366</th>\n",
       "      <td>_2viQ_Qnc6-pY-1yR6K2FhmC5i48-WuNx5CumlHLDAI</td>\n",
       "      <td>Sabina Pearson-Smith</td>\n",
       "      <td>2013-07-13T13:14:30.021000</td>\n",
       "      <td>I love this song for two reasons: 1.it is abou...</td>\n",
       "      <td>0</td>\n",
       "    </tr>\n",
       "    <tr>\n",
       "      <th>367</th>\n",
       "      <td>_2viQ_Qnc6_k_n_Bse9zVhJP8tJReZpo8uM2uZfnzDs</td>\n",
       "      <td>jeffrey jules</td>\n",
       "      <td>2013-07-13T12:09:31.188000</td>\n",
       "      <td>wow</td>\n",
       "      <td>0</td>\n",
       "    </tr>\n",
       "    <tr>\n",
       "      <th>368</th>\n",
       "      <td>_2viQ_Qnc6_yBt8UGMWyg3vh0PulTqcqyQtdE7d4Fl0</td>\n",
       "      <td>Aishlin Maciel</td>\n",
       "      <td>2013-07-13T11:17:52.308000</td>\n",
       "      <td>Shakira u are so wiredo</td>\n",
       "      <td>0</td>\n",
       "    </tr>\n",
       "    <tr>\n",
       "      <th>369</th>\n",
       "      <td>_2viQ_Qnc685RPw1aSa1tfrIuHXRvAQ2rPT9R06KTqA</td>\n",
       "      <td>Latin Bosch</td>\n",
       "      <td>2013-07-12T22:33:27.916000</td>\n",
       "      <td>Shakira is the best dancer</td>\n",
       "      <td>0</td>\n",
       "    </tr>\n",
       "  </tbody>\n",
       "</table>\n",
       "<p>370 rows × 5 columns</p>\n",
       "</div>"
      ],
      "text/plain": [
       "                                      COMMENT_ID  \\\n",
       "0            z13lgffb5w3ddx1ul22qy1wxspy5cpkz504   \n",
       "1              z123dbgb0mqjfxbtz22ucjc5jvzcv3ykj   \n",
       "2          z12quxxp2vutflkxv04cihggzt2azl34pms0k   \n",
       "3              z12icv3ysqvlwth2c23eddlykyqut5z1h   \n",
       "4              z133stly3kete3tly22petvwdpmghrlli   \n",
       "..                                           ...   \n",
       "365  _2viQ_Qnc6-bMSjqyL1NKj57ROicCSJV5SwTrw-RFFA   \n",
       "366  _2viQ_Qnc6-pY-1yR6K2FhmC5i48-WuNx5CumlHLDAI   \n",
       "367  _2viQ_Qnc6_k_n_Bse9zVhJP8tJReZpo8uM2uZfnzDs   \n",
       "368  _2viQ_Qnc6_yBt8UGMWyg3vh0PulTqcqyQtdE7d4Fl0   \n",
       "369  _2viQ_Qnc685RPw1aSa1tfrIuHXRvAQ2rPT9R06KTqA   \n",
       "\n",
       "                                 AUTHOR                        DATE  \\\n",
       "0                            dharma pal  2015-05-29T02:30:18.971000   \n",
       "1                         Tiza Arellano  2015-05-29T00:14:48.748000   \n",
       "2    Prìñçeśś Âliś Łøvê Dømíñø Mâđiś™ ﻿  2015-05-28T21:00:08.607000   \n",
       "3                         Eric Gonzalez  2015-05-28T20:47:12.193000   \n",
       "4                         Analena López  2015-05-28T17:08:29.827000   \n",
       "..                                  ...                         ...   \n",
       "365                        Katie Mettam  2013-07-13T13:27:39.441000   \n",
       "366                Sabina Pearson-Smith  2013-07-13T13:14:30.021000   \n",
       "367                       jeffrey jules  2013-07-13T12:09:31.188000   \n",
       "368                      Aishlin Maciel  2013-07-13T11:17:52.308000   \n",
       "369                         Latin Bosch  2013-07-12T22:33:27.916000   \n",
       "\n",
       "                                               CONTENT  CLASS  \n",
       "0                                           Nice song﻿      0  \n",
       "1                                        I love song ﻿      0  \n",
       "2                                        I love song ﻿      0  \n",
       "3    860,000,000 lets make it first female to reach...      0  \n",
       "4                        shakira is best for worldcup﻿      0  \n",
       "..                                                 ...    ...  \n",
       "365  I love this song because we sing it at Camp al...      0  \n",
       "366  I love this song for two reasons: 1.it is abou...      0  \n",
       "367                                                wow      0  \n",
       "368                            Shakira u are so wiredo      0  \n",
       "369                         Shakira is the best dancer      0  \n",
       "\n",
       "[370 rows x 5 columns]"
      ]
     },
     "execution_count": 87,
     "metadata": {},
     "output_type": "execute_result"
    }
   ],
   "source": [
    "df = pd.read_csv(\"Youtube05-Shakira.csv\")\n",
    "df.dropna()"
   ]
  },
  {
   "attachments": {},
   "cell_type": "markdown",
   "metadata": {},
   "source": [
    "b) Teilen Sie die Daten in Merkmale (Features) und die Zielvariable auf. Wählen Sie dazu die Spalten mit den Kommentaren und die Spalte mit den Klassenlabeln aus. Die Kommentare sind folgendermaßen in Klassen unterteilt: kein Spam (0) und Spam(1)."
   ]
  },
  {
   "cell_type": "code",
   "execution_count": 88,
   "metadata": {},
   "outputs": [],
   "source": [
    "features = df[\"CONTENT\"]\n",
    "zielvariable = df[\"CLASS\"]"
   ]
  },
  {
   "cell_type": "markdown",
   "metadata": {},
   "source": [
    "c) Unterteilen Sie die Daten in Trainings- und Testdaten."
   ]
  },
  {
   "cell_type": "code",
   "execution_count": 89,
   "metadata": {},
   "outputs": [],
   "source": [
    "features_train, features_test, ziel_train, ziel_test = train_test_split(features, zielvariable, test_size=0.3, random_state=2)"
   ]
  },
  {
   "attachments": {},
   "cell_type": "markdown",
   "metadata": {},
   "source": [
    "## Aufgabe 2\n",
    "Wandeln Sie die Merkmale der Trainings- und Testdaten in die Bag-of-Words Darstellung um. \n",
    "\n",
    "**Tip 1:** CountVectorizer aus sklearn mit dem Parameter: binary=False\n",
    "\n",
    "**Tip 2:** toarray() wandelt den Rückgabewert in ein 2D-Array um."
   ]
  },
  {
   "cell_type": "code",
   "execution_count": 90,
   "metadata": {},
   "outputs": [
    {
     "name": "stdout",
     "output_type": "stream",
     "text": [
      "[[0 0 0 ... 0 0 0]\n",
      " [0 0 0 ... 0 0 0]\n",
      " [0 0 0 ... 0 0 0]\n",
      " ...\n",
      " [0 0 0 ... 0 0 0]\n",
      " [0 0 0 ... 0 0 0]\n",
      " [0 0 0 ... 0 0 0]]\n"
     ]
    }
   ],
   "source": [
    "vectorizer = CountVectorizer(binary=False)\n",
    "f_train_transformed = vectorizer.fit_transform(features_train)\n",
    "f_train_arr = f_train_transformed.toarray()\n",
    "f_test_transformed = vectorizer.transform(features_test)\n",
    "f_test_arr = f_test_transformed.toarray()\n",
    "print(f_train_arr)"
   ]
  },
  {
   "attachments": {},
   "cell_type": "markdown",
   "metadata": {},
   "source": [
    "## Aufgabe 3\n",
    "Implementieren Sie den Multinominal Naive-Bayes Algorithmus mit add-1 Smoothing in der vorgegebenen Klasse.\n",
    "\n",
    "\n",
    "<span style=\"color:red\">**Verwenden Sie nicht die Klassifikatoren aus sklearn!**</span>"
   ]
  },
  {
   "cell_type": "code",
   "execution_count": 91,
   "metadata": {},
   "outputs": [],
   "source": [
    "class NaiveBayes:\n",
    "\n",
    "    def __init__(self, alpha=1.0):\n",
    "        self.alpha = alpha\n",
    "        self.priorPos = 0\n",
    "        self.prioNeg = 0\n",
    "        self.likelihoodPos = None\n",
    "        self.likelihoodNeg = None\n",
    "\n",
    "    def fit(self, X, y):\n",
    "        self.priorPos = sum(y == 1) / len(y)\n",
    "        self.priorNeg = sum(y == 0) / len(y)\n",
    "\n",
    "        self.likelihoodPos = X[y==1]\n",
    "        self.likelihoodNeg = X[y==0]\n",
    "\n",
    "\n",
    "        self.likelihoodSumPos = np.sum(self.likelihoodPos, axis=0)\n",
    "        self.likelihoodSumNeg = np.sum(self.likelihoodNeg, axis=0)\n",
    "\n",
    "        likelihodSmoothPos = self.likelihoodSumPos + self.alpha\n",
    "        likelihodSmoothNeg = self.likelihoodSumNeg + self.alpha\n",
    "\n",
    "        self.likelihoodPos = likelihodSmoothPos * (1/(sum(self.likelihoodSumPos) + self.likelihoodSumPos.shape[0]))\n",
    "        self.likelihoodNeg = likelihodSmoothNeg * (1/(sum(self.likelihoodSumNeg) + self.likelihoodSumNeg.shape[0]))\n",
    "\n",
    "\n",
    "    def predict(self, X):\n",
    "        result = []\n",
    "        for x in X:\n",
    "            pos = self.priorPos * np.prod(self.likelihoodPos ** x)\n",
    "            neg = self.priorNeg * np.prod(self.likelihoodNeg ** x)\n",
    "\n",
    "            if pos < neg:\n",
    "                result.append(0)\n",
    "            else:\n",
    "                result.append(1)\n",
    "        return result\n"
   ]
  },
  {
   "attachments": {},
   "cell_type": "markdown",
   "metadata": {},
   "source": [
    "b) Testen Sie die Implementierung auf den Testdaten.\n",
    "\n",
    "* Geben Sie die Genauigkeit (accuracy) auf den Testdaten aus.\n",
    "* Geben Sie die Konfusionsmatrix aus."
   ]
  },
  {
   "cell_type": "code",
   "execution_count": 92,
   "metadata": {},
   "outputs": [
    {
     "name": "stdout",
     "output_type": "stream",
     "text": [
      "Genauigkeit auf den Testdaten: 0.9099099099099099\n"
     ]
    },
    {
     "data": {
      "image/png": "[encoded data removed]",
      "text/plain": [
       "<Figure size 640x480 with 2 Axes>"
      ]
     },
     "metadata": {},
     "output_type": "display_data"
    }
   ],
   "source": [
    "from sklearn.metrics import accuracy_score, confusion_matrix\n",
    "\n",
    "# Vorhersagen für die Testdaten machen\n",
    "nb = NaiveBayes()\n",
    "nb.fit(f_train_arr, ziel_train)\n",
    "predictions = nb.predict(f_test_arr)\n",
    "\n",
    "# Genauigkeit berechnen\n",
    "accuracy = accuracy_score(ziel_test, predictions)\n",
    "print(\"Genauigkeit auf den Testdaten:\", accuracy)\n",
    "\n",
    "# Konfusionsmatrix berechnen und ausgeben\n",
    "conf_matrix = confusion_matrix(ziel_test, predictions)\n",
    "d = ConfusionMatrixDisplay(confusion_matrix= conf_matrix)\n",
    "d.plot()\n",
    "plt.show()"
   ]
  },
  {
   "cell_type": "markdown",
   "metadata": {},
   "source": [
    "**Hinweis:** Vergleichen mit sklearn.naive_bayes.MultinominalNB. \n",
    "Das Ergebnis sollte identisch sein."
   ]
  },
  {
   "cell_type": "code",
   "execution_count": 93,
   "metadata": {},
   "outputs": [
    {
     "name": "stdout",
     "output_type": "stream",
     "text": [
      "Genauigkeit auf den Testdaten: 0.9099099099099099\n"
     ]
    },
    {
     "data": {
      "image/png": "[encoded data removed]",
      "text/plain": [
       "<Figure size 640x480 with 2 Axes>"
      ]
     },
     "metadata": {},
     "output_type": "display_data"
    }
   ],
   "source": [
    "from sklearn.naive_bayes import MultinomialNB\n",
    "klasse = MultinomialNB()\n",
    "klasse.fit(f_train_arr, ziel_train)\n",
    "var = klasse.predict(f_test_arr)\n",
    "predictions = klasse.predict(f_test_arr)\n",
    "\n",
    "# Genauigkeit berechnen\n",
    "accuracy = accuracy_score(ziel_test, predictions)\n",
    "print(\"Genauigkeit auf den Testdaten:\", accuracy)\n",
    "\n",
    "# Konfusionsmatrix berechnen und ausgeben\n",
    "conf_matrix = confusion_matrix(ziel_test, predictions)\n",
    "conf_matrix = confusion_matrix(ziel_test, predictions)\n",
    "d = ConfusionMatrixDisplay(confusion_matrix= conf_matrix)\n",
    "d.plot()\n",
    "plt.show()"
   ]
  }
 ],
 "metadata": {
  "kernelspec": {
   "display_name": "base",
   "language": "python",
   "name": "python3"
  },
  "language_info": {
   "codemirror_mode": {
    "name": "ipython",
    "version": 3
   },
   "file_extension": ".py",
   "mimetype": "text/x-python",
   "name": "python",
   "nbconvert_exporter": "python",
   "pygments_lexer": "ipython3",
   "version": "3.11.7"
  },
  "orig_nbformat": 4,
  "vscode": {
   "interpreter": {
    "hash": "2b66a54808bfd38b8ee50b81466627e5e186589d5fbca2ad2c90779bf4237097"
   }
  }
 },
 "nbformat": 4,
 "nbformat_minor": 2
}
